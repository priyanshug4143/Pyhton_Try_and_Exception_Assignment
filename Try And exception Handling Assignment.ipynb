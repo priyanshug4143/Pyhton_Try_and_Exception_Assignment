{
 "cells": [
  {
   "cell_type": "markdown",
   "id": "826b080d",
   "metadata": {},
   "source": [
    "1. What is the role of try and exception block?"
   ]
  },
  {
   "cell_type": "code",
   "execution_count": 1,
   "id": "4692efff",
   "metadata": {},
   "outputs": [
    {
     "name": "stdout",
     "output_type": "stream",
     "text": [
      "The try block is used for testing of code for errors.\n",
      "The except block is used for handle the error.\n"
     ]
    }
   ],
   "source": [
    "#Answer\n",
    "print(\"The try block is used for testing of code for errors.\") \n",
    "print(\"The except block is used for handle the error.\")"
   ]
  },
  {
   "cell_type": "code",
   "execution_count": null,
   "id": "b0b5b575",
   "metadata": {},
   "outputs": [],
   "source": []
  },
  {
   "cell_type": "markdown",
   "id": "bd61181d",
   "metadata": {},
   "source": [
    "2. What is the syntax for a basic try-except block?"
   ]
  },
  {
   "cell_type": "code",
   "execution_count": 12,
   "id": "b34f8bb3",
   "metadata": {},
   "outputs": [
    {
     "name": "stdout",
     "output_type": "stream",
     "text": [
      "Enter a 1st Number45\n",
      "Enter a 2nd Numberffg\n"
     ]
    },
    {
     "ename": "ValueError",
     "evalue": "invalid literal for int() with base 10: 'ffg'",
     "output_type": "error",
     "traceback": [
      "\u001b[1;31m---------------------------------------------------------------------------\u001b[0m",
      "\u001b[1;31mValueError\u001b[0m                                Traceback (most recent call last)",
      "Input \u001b[1;32mIn [12]\u001b[0m, in \u001b[0;36m<cell line: 2>\u001b[1;34m()\u001b[0m\n\u001b[0;32m      1\u001b[0m a\u001b[38;5;241m=\u001b[39m\u001b[38;5;28mint\u001b[39m(\u001b[38;5;28minput\u001b[39m(\u001b[38;5;124m\"\u001b[39m\u001b[38;5;124mEnter a 1st Number\u001b[39m\u001b[38;5;124m\"\u001b[39m))\n\u001b[1;32m----> 2\u001b[0m b\u001b[38;5;241m=\u001b[39m\u001b[38;5;28;43mint\u001b[39;49m\u001b[43m(\u001b[49m\u001b[38;5;28;43minput\u001b[39;49m\u001b[43m(\u001b[49m\u001b[38;5;124;43m\"\u001b[39;49m\u001b[38;5;124;43mEnter a 2nd Number\u001b[39;49m\u001b[38;5;124;43m\"\u001b[39;49m\u001b[43m)\u001b[49m\u001b[43m)\u001b[49m\n\u001b[0;32m      3\u001b[0m \u001b[38;5;28;01mtry\u001b[39;00m:\n\u001b[0;32m      4\u001b[0m     \u001b[38;5;28mprint\u001b[39m(\u001b[38;5;124m\"\u001b[39m\u001b[38;5;124mSum of Two Number\u001b[39m\u001b[38;5;124m\"\u001b[39m,a\u001b[38;5;241m+\u001b[39mb)\n",
      "\u001b[1;31mValueError\u001b[0m: invalid literal for int() with base 10: 'ffg'"
     ]
    }
   ],
   "source": [
    "a=int(input(\"Enter a 1st Number\"))\n",
    "b=int(input(\"Enter a 2nd Number\"))\n",
    "try:\n",
    "    print(\"Sum of Two Number\",a+b)\n",
    "except Expection as e:\n",
    "    print(e)\n",
    "print(\"Jay Shree ram\")"
   ]
  },
  {
   "cell_type": "code",
   "execution_count": null,
   "id": "ca25eb61",
   "metadata": {},
   "outputs": [],
   "source": []
  },
  {
   "cell_type": "markdown",
   "id": "e9bb3d08",
   "metadata": {},
   "source": [
    "3. What happens if an exception occurs inside a try block and there is no matching\n",
    "except block?"
   ]
  },
  {
   "cell_type": "code",
   "execution_count": 19,
   "id": "2a95dd42",
   "metadata": {},
   "outputs": [
    {
     "name": "stdout",
     "output_type": "stream",
     "text": [
      "Can't Divide By Zero\n"
     ]
    }
   ],
   "source": [
    "a=3\n",
    "b=0\n",
    "try:\n",
    "    print(a/b)\n",
    "except ZeroDivisionError:\n",
    "    print(\"Can't Divide By Zero\")"
   ]
  },
  {
   "cell_type": "code",
   "execution_count": 21,
   "id": "ce791d6d",
   "metadata": {},
   "outputs": [
    {
     "name": "stdout",
     "output_type": "stream",
     "text": [
      "In the example above, we have a normal code where variable (a,b)that attempts to divide two numbers (a and b)\n",
      "inside the try block. The code does not handle any other exceptions except for ZeroDivisionError.\n",
      "If we ll run this code with b as 0, a ZeroDivisionError will occur during the division attempt. \n",
      "Since there is a matching except ZeroDivisionError block,the program will not terminate immediately \n",
      "and will print the message Cannot divide by zero. However,after that, there is no except block to handle other\n",
      "types of exceptions that might occur (e.g., TypeError, ValueError, etc.\n",
      "As a result, the program will terminate with an unhandled exception and display the default error message\n",
      "or traceback, which will show the specific exception that occurred and the line of code where it happened. \n",
      "In this case, the message will indicate that a ZeroDivisionError occurred inside the divide_numbers function.\n"
     ]
    }
   ],
   "source": [
    "print(\"In the example above, we have a normal code where variable (a,b)that attempts to divide two numbers (a and b)\")\n",
    "print(\"inside the try block. The code does not handle any other exceptions except for ZeroDivisionError.\")\n",
    "print(\"If we ll run this code with b as 0, a ZeroDivisionError will occur during the division attempt. \")\n",
    "print(\"Since there is a matching except ZeroDivisionError block,the program will not terminate immediately \")\n",
    "print(\"and will print the message Cannot divide by zero. However,after that, there is no except block to handle other\")\n",
    "print(\"types of exceptions that might occur (e.g., TypeError, ValueError, etc.\")\n",
    "print(\"As a result, the program will terminate with an unhandled exception and display the default error message\")\n",
    "print(\"or traceback, which will show the specific exception that occurred and the line of code where it happened. \")\n",
    "print(\"In this case, the message will indicate that a ZeroDivisionError occurred inside the divide_numbers function.\")"
   ]
  },
  {
   "cell_type": "code",
   "execution_count": null,
   "id": "7fd84b00",
   "metadata": {},
   "outputs": [],
   "source": []
  },
  {
   "cell_type": "markdown",
   "id": "2a780c30",
   "metadata": {},
   "source": [
    "4. What is the difference between using a bare except block and specifying a specific\n",
    "exception type?"
   ]
  },
  {
   "cell_type": "code",
   "execution_count": 23,
   "id": "5d899ba9",
   "metadata": {},
   "outputs": [
    {
     "name": "stdout",
     "output_type": "stream",
     "text": [
      "Bare except block:\n",
      "in a bare except block, without specifying any exception type, it will catch exception that occurs within the try block.\n",
      "This can be not good because it makes it difficult to know what kind of exception occurred,which may be unexpected behavior.\n",
      "Using a bare except block is discouraged in most cases, as it might hide errors and make it harder to identify and fix issues.\n"
     ]
    }
   ],
   "source": [
    "# Answer\n",
    "print(\"Bare except block:\")\n",
    "print(\"in a bare except block, without specifying any exception type, it will catch exception that occurs within the try block.\")\n",
    "print(\"This can be not good because it makes it difficult to know what kind of exception occurred,which may be unexpected behavior.\")\n",
    "print(\"Using a bare except block is discouraged in most cases, as it might hide errors and make it harder to identify and fix issues.\")"
   ]
  },
  {
   "cell_type": "code",
   "execution_count": 31,
   "id": "496dd0b4",
   "metadata": {},
   "outputs": [],
   "source": [
    "#example\n",
    "def divider(a, b):\n",
    "    try:\n",
    "        result = a / b\n",
    "        return result\n",
    "    except:\n",
    "        print(\"Jay Shree Ram-unknown error\")"
   ]
  },
  {
   "cell_type": "code",
   "execution_count": 32,
   "id": "b502f947",
   "metadata": {},
   "outputs": [
    {
     "name": "stdout",
     "output_type": "stream",
     "text": [
      "Jay Shree Ram-unknown error\n",
      "Result: None\n"
     ]
    }
   ],
   "source": [
    "# Example usage:\n",
    "a = 10\n",
    "b = 0\n",
    "\n",
    "result = divider(a,b)\n",
    "print(\"Result:\", result)"
   ]
  },
  {
   "cell_type": "code",
   "execution_count": 33,
   "id": "2121cf5c",
   "metadata": {},
   "outputs": [
    {
     "name": "stdout",
     "output_type": "stream",
     "text": [
      "if an exception occurs during the division(e.g., ZeroDivisionError, TypeError, etc.), the bare except\n",
      "block will catch it, and the message Jay Shree Ram-unknown error will be printed.The specific type of exception will not be identified or handled separately.\n"
     ]
    }
   ],
   "source": [
    "print(\"if an exception occurs during the division(e.g., ZeroDivisionError, TypeError, etc.), the bare except\")\n",
    "print(\"block will catch it, and the message Jay Shree Ram-unknown error will be printed.The specific type of exception will not be identified or handled separately.\")"
   ]
  },
  {
   "cell_type": "code",
   "execution_count": null,
   "id": "be415cfc",
   "metadata": {},
   "outputs": [],
   "source": []
  },
  {
   "cell_type": "code",
   "execution_count": null,
   "id": "fb032438",
   "metadata": {},
   "outputs": [],
   "source": []
  },
  {
   "cell_type": "code",
   "execution_count": 34,
   "id": "70fa4c68",
   "metadata": {},
   "outputs": [
    {
     "name": "stdout",
     "output_type": "stream",
     "text": [
      "Specific exception type:\n",
      "When you specify a specific exception type in the `except` block,it will catch and handle exceptions of that particular type\n"
     ]
    }
   ],
   "source": [
    "print(\"Specific exception type:\")\n",
    "print(\"When you specify a specific exception type in the `except` block,it will catch and handle exceptions of that particular type\")"
   ]
  },
  {
   "cell_type": "code",
   "execution_count": 37,
   "id": "f434e506",
   "metadata": {},
   "outputs": [],
   "source": [
    "def divider2(a, b):\n",
    "    try:\n",
    "        result = a / b\n",
    "        return result\n",
    "    except ZeroDivisionError:\n",
    "        print(\"Jay Shree Ram -Cannot divide by zero.\")\n"
   ]
  },
  {
   "cell_type": "code",
   "execution_count": 38,
   "id": "0caf1cf3",
   "metadata": {},
   "outputs": [
    {
     "name": "stdout",
     "output_type": "stream",
     "text": [
      "Jay Shree Ram -Cannot divide by zero.\n",
      "Result: None\n"
     ]
    }
   ],
   "source": [
    "# Example :\n",
    "a = 10\n",
    "b = 0\n",
    "\n",
    "result = divider2(a,b)\n",
    "print(\"Result:\", result)"
   ]
  },
  {
   "cell_type": "code",
   "execution_count": 40,
   "id": "24d73cff",
   "metadata": {},
   "outputs": [
    {
     "name": "stdout",
     "output_type": "stream",
     "text": [
      "Here, we have specified  ZeroDivisionError, which means it will  catch and handle `ZeroDivisionError` exceptions.\n",
      "If a `ZeroDivisionError` occurs during the division, the message Jay Shree Ram -Cannot divide by zero will be printed.\n"
     ]
    }
   ],
   "source": [
    "print(\"Here, we have specified  ZeroDivisionError, which means it will  catch and handle `ZeroDivisionError` exceptions.\")\n",
    "print(\"If a `ZeroDivisionError` occurs during the division, the message Jay Shree Ram -Cannot divide by zero will be printed.\")"
   ]
  },
  {
   "cell_type": "code",
   "execution_count": null,
   "id": "aa9cfbc0",
   "metadata": {},
   "outputs": [],
   "source": []
  },
  {
   "cell_type": "markdown",
   "id": "b56b8e99",
   "metadata": {},
   "source": [
    "5. Can you have nested try-except blocks in Python? If yes, then give an example."
   ]
  },
  {
   "cell_type": "code",
   "execution_count": null,
   "id": "c72bcab5",
   "metadata": {},
   "outputs": [],
   "source": []
  },
  {
   "cell_type": "code",
   "execution_count": null,
   "id": "7cee9749",
   "metadata": {},
   "outputs": [],
   "source": []
  },
  {
   "cell_type": "markdown",
   "id": "f2e38dd9",
   "metadata": {},
   "source": [
    "6. Can we use multiple exception blocks, if yes then give an example."
   ]
  },
  {
   "cell_type": "code",
   "execution_count": 45,
   "id": "3a7bda2c",
   "metadata": {},
   "outputs": [
    {
     "name": "stdout",
     "output_type": "stream",
     "text": [
      "Yes,we can use multiple `except` blocks to handle different types of exceptions separately.\n",
      "specific error handling for different types of exceptions that may occur within the `try` block. Each `except` block can        handle a specific type of exception, providing more control over how your code responds to different errors.\n",
      "Example\n"
     ]
    }
   ],
   "source": [
    "print(\"Yes,we can use multiple `except` blocks to handle different types of exceptions separately.\")\n",
    "print(\"specific error handling for different types of exceptions that may occur within the `try` block. Each `except` block can        handle a specific type of exception, providing more control over how your code responds to different errors.\")\n",
    "print(\"Example\")"
   ]
  },
  {
   "cell_type": "code",
   "execution_count": 46,
   "id": "73c101fa",
   "metadata": {},
   "outputs": [],
   "source": [
    "def jay_shree_ram(a, b):\n",
    "    try:\n",
    "        c = a / b\n",
    "        return c\n",
    "    except ZeroDivisionError:\n",
    "        print(\"Cant divide by zero.\")\n",
    "    except TypeError:\n",
    "        print(\"Invalid operand\")\n",
    "    except Exception as e:\n",
    "        print(f\" unexpected error: {e}\")"
   ]
  },
  {
   "cell_type": "code",
   "execution_count": 47,
   "id": "4bdd57dc",
   "metadata": {},
   "outputs": [],
   "source": [
    "a = 10\n",
    "b = 0"
   ]
  },
  {
   "cell_type": "code",
   "execution_count": 48,
   "id": "2cab17d2",
   "metadata": {},
   "outputs": [
    {
     "name": "stdout",
     "output_type": "stream",
     "text": [
      "Error occurred during division.\n"
     ]
    }
   ],
   "source": [
    "try:\n",
    "    c = divide_numbers(numerator, denominator)\n",
    "    print(\"Result:\", c)\n",
    "except:\n",
    "    print(\"Error occurred during division.\")"
   ]
  },
  {
   "cell_type": "code",
   "execution_count": null,
   "id": "355c1cff",
   "metadata": {},
   "outputs": [],
   "source": []
  },
  {
   "cell_type": "markdown",
   "id": "72adc088",
   "metadata": {},
   "source": [
    "7. Write the reason due to which following errors are raised:          \n",
    "a. EOFError                 \n",
    "b. FloatingPointError                      \n",
    "c. IndexError                   \n",
    "d. MemoryError                     \n",
    "e. OverflowError                   \n",
    "f. TabError                       \n",
    "g. ValueError"
   ]
  },
  {
   "cell_type": "code",
   "execution_count": 51,
   "id": "70b1ec27",
   "metadata": {},
   "outputs": [
    {
     "name": "stdout",
     "output_type": "stream",
     "text": [
      "a. EOFError:\n",
      "This error occurs when the input() function reaches the end of the file (EOF) and no more input can be read.\n"
     ]
    }
   ],
   "source": [
    "#Answer\n",
    "print(\"a. EOFError:\")\n",
    "print(\"This error occurs when the input() function reaches the end of the file (EOF) and no more input can be read.\")"
   ]
  },
  {
   "cell_type": "code",
   "execution_count": 5,
   "id": "61ac7e5b",
   "metadata": {},
   "outputs": [],
   "source": [
    "try:\n",
    "    file = open(r\"C:\\Users\\Dr. Poonam\\Desktop\\pandas.txt\")\n",
    "    data = file.read()\n",
    "    file.close()\n",
    "except EOFError:\n",
    "    print(\"End of file reached unexpectedly.\")"
   ]
  },
  {
   "cell_type": "code",
   "execution_count": null,
   "id": "597a7ec4",
   "metadata": {},
   "outputs": [],
   "source": []
  },
  {
   "cell_type": "code",
   "execution_count": 55,
   "id": "c0d82102",
   "metadata": {},
   "outputs": [
    {
     "name": "stdout",
     "output_type": "stream",
     "text": [
      "b. FloatingPointError:\n",
      "This error occurs when a floating-point operation fails to produce a valid result, usually due to issues like division by     zero \n"
     ]
    }
   ],
   "source": [
    "#Answer\n",
    "print(\"b. FloatingPointError:\")\n",
    "print(\"This error occurs when a floating-point operation fails to produce a valid result, usually due to issues like division by     zero \")"
   ]
  },
  {
   "cell_type": "code",
   "execution_count": 60,
   "id": "dd2e6043",
   "metadata": {},
   "outputs": [
    {
     "ename": "ZeroDivisionError",
     "evalue": "division by zero",
     "output_type": "error",
     "traceback": [
      "\u001b[1;31m---------------------------------------------------------------------------\u001b[0m",
      "\u001b[1;31mZeroDivisionError\u001b[0m                         Traceback (most recent call last)",
      "Input \u001b[1;32mIn [60]\u001b[0m, in \u001b[0;36m<cell line: 3>\u001b[1;34m()\u001b[0m\n\u001b[0;32m      1\u001b[0m a,b\u001b[38;5;241m=\u001b[39m\u001b[38;5;241m1\u001b[39m , \u001b[38;5;241m0\u001b[39m\n\u001b[0;32m      3\u001b[0m \u001b[38;5;28;01mtry\u001b[39;00m:\n\u001b[1;32m----> 4\u001b[0m     \u001b[38;5;28mprint\u001b[39m(\u001b[43ma\u001b[49m\u001b[38;5;241;43m/\u001b[39;49m\u001b[43mb\u001b[49m)\n\u001b[0;32m      5\u001b[0m \u001b[38;5;28;01mexcept\u001b[39;00m \u001b[38;5;167;01mFloatingPointError\u001b[39;00m:\n\u001b[0;32m      6\u001b[0m     \u001b[38;5;28mprint\u001b[39m(\u001b[38;5;124m\"\u001b[39m\u001b[38;5;124mFloating-point error occurred: Division by zero.\u001b[39m\u001b[38;5;124m\"\u001b[39m)\n",
      "\u001b[1;31mZeroDivisionError\u001b[0m: division by zero"
     ]
    }
   ],
   "source": [
    "a,b=1 , 0\n",
    "\n",
    "try:\n",
    "    print(a/b)\n",
    "except FloatingPointError:\n",
    "    print(\"Floating-point error occurred: Division by zero.\")"
   ]
  },
  {
   "cell_type": "code",
   "execution_count": 61,
   "id": "459e9883",
   "metadata": {},
   "outputs": [
    {
     "name": "stdout",
     "output_type": "stream",
     "text": [
      "c. IndexError:\n",
      "This error occurs when trying to access an index that is out of range in a sequence (e.g., list, tuple, string).\n",
      "Index error occurred: Index is out of range.\n"
     ]
    }
   ],
   "source": [
    "#Answer\n",
    "print(\"c. IndexError:\")\n",
    "print(\"This error occurs when trying to access an index that is out of range in a sequence (e.g., list, tuple, string).\")\n",
    "try:\n",
    "    my_list = [1, 2, 3]\n",
    "    print(my_list[3])\n",
    "except IndexError:\n",
    "    print(\"Index error occurred: Index is out of range.\")"
   ]
  },
  {
   "cell_type": "code",
   "execution_count": null,
   "id": "3f92c79c",
   "metadata": {},
   "outputs": [],
   "source": []
  },
  {
   "cell_type": "code",
   "execution_count": 6,
   "id": "9c4560b8",
   "metadata": {},
   "outputs": [
    {
     "name": "stdout",
     "output_type": "stream",
     "text": [
      "d. MemoryError\n",
      "This error occurs when an operation or program tries to access more memory than the system can provide.\n"
     ]
    }
   ],
   "source": [
    "#Answer\n",
    "print(\"d. MemoryError\")\n",
    "print(\"This error occurs when an operation or program tries to access more memory than the system can provide.\")\n",
    "\n",
    "try:\n",
    "    my_list = [i for i in range(10**8)]\n",
    "except MemoryError:\n",
    "    print(\"Error: Insufficient memory to create the list.\")"
   ]
  },
  {
   "cell_type": "code",
   "execution_count": null,
   "id": "25d0b8d1",
   "metadata": {},
   "outputs": [],
   "source": []
  },
  {
   "cell_type": "code",
   "execution_count": 8,
   "id": "5e7ead7a",
   "metadata": {},
   "outputs": [
    {
     "name": "stdout",
     "output_type": "stream",
     "text": [
      "e. OverflowError\n",
      "This error is raised when a calculation exceeds the maximum representable value for a numeric type.\n"
     ]
    }
   ],
   "source": [
    "print(\"e. OverflowError\")\n",
    "print(\"This error is raised when a calculation exceeds the maximum representable value for a numeric type.\")\n",
    "try:\n",
    "    large_number = 10**1000\n",
    "    result = large_number * large_number\n",
    "except OverflowError:\n",
    "    print(\"Error: Result exceeds the maximum representable value.\")"
   ]
  },
  {
   "cell_type": "code",
   "execution_count": null,
   "id": "b82adb52",
   "metadata": {},
   "outputs": [],
   "source": []
  },
  {
   "cell_type": "code",
   "execution_count": 10,
   "id": "6680905d",
   "metadata": {},
   "outputs": [
    {
     "name": "stdout",
     "output_type": "stream",
     "text": [
      "f. TabError:\n",
      "This error is raised when there are inconsistent or incorrect uses of tabs and spaces for indentation in Python code.\n",
      "TabError example\n"
     ]
    }
   ],
   "source": [
    "print(\"f. TabError:\")\n",
    "print(\"This error is raised when there are inconsistent or incorrect uses of tabs and spaces for indentation in Python code.\")\n",
    "\n",
    "try:\n",
    "    print(\"TabError example\")\n",
    "except TabError:\n",
    "    print(\"Error: TabError occurred due to incorrect indentation.\")"
   ]
  },
  {
   "cell_type": "code",
   "execution_count": null,
   "id": "5a124023",
   "metadata": {},
   "outputs": [],
   "source": []
  },
  {
   "cell_type": "code",
   "execution_count": 11,
   "id": "4f09cfee",
   "metadata": {},
   "outputs": [
    {
     "name": "stdout",
     "output_type": "stream",
     "text": [
      "g. ValueError\n",
      "This error occurs when a function receives an argument of the correct data type but an inappropriate value.\n",
      "Error: Invalid value for conversion to int.\n"
     ]
    }
   ],
   "source": [
    "print(\"g. ValueError\")      \n",
    "print(\"This error occurs when a function receives an argument of the correct data type but an inappropriate value.\")\n",
    "\n",
    "try:\n",
    "    num = int(\"hello\")\n",
    "except ValueError:\n",
    "    print(\"Error: Invalid value for conversion to int.\")"
   ]
  },
  {
   "cell_type": "code",
   "execution_count": null,
   "id": "6c799eb8",
   "metadata": {},
   "outputs": [],
   "source": []
  },
  {
   "cell_type": "markdown",
   "id": "6c8ad7a4",
   "metadata": {},
   "source": [
    "8. Write code for the following given scenario and add try-exception block to it.                                   \n",
    "a. Program to divide two numbers                          \n",
    "b. Program to convert a string to an integer                               \n",
    "c. Program to access an element in a list                                        \n",
    "d. Program to handle a specific exception                                           \n",
    "e. Program to handle any exception                                             "
   ]
  },
  {
   "cell_type": "code",
   "execution_count": 2,
   "id": "7b704fe5",
   "metadata": {},
   "outputs": [],
   "source": [
    "# answer\n",
    "#a. Program to divide two numbers"
   ]
  },
  {
   "cell_type": "code",
   "execution_count": 7,
   "id": "f4cb0075",
   "metadata": {},
   "outputs": [
    {
     "name": "stdout",
     "output_type": "stream",
     "text": [
      "Enter a First Numer45\n",
      "Enter a Second Number   0\n",
      "Please Enter a Valid Input\n"
     ]
    }
   ],
   "source": [
    "a=int(input(\"Enter a First Numer\"))\n",
    "b=int(input(\"Enter a Second Number   \"))\n",
    "try:\n",
    "    print(a/b)\n",
    "except ZeroDivisionError:\n",
    "    print(\"Please Enter a Valid Input\")"
   ]
  },
  {
   "cell_type": "code",
   "execution_count": null,
   "id": "fac4a073",
   "metadata": {},
   "outputs": [],
   "source": []
  },
  {
   "cell_type": "code",
   "execution_count": null,
   "id": "2b5fbf07",
   "metadata": {},
   "outputs": [],
   "source": [
    "#b. Program to convert a string to an integer"
   ]
  },
  {
   "cell_type": "code",
   "execution_count": 10,
   "id": "975c289c",
   "metadata": {},
   "outputs": [
    {
     "name": "stdout",
     "output_type": "stream",
     "text": [
      "Enter a Proper Input\n"
     ]
    }
   ],
   "source": [
    "a=\"23f1\"\n",
    "try:\n",
    "    print(int(a))\n",
    "except ValueError:\n",
    "    print(\"Enter a Proper Input\")  "
   ]
  },
  {
   "cell_type": "code",
   "execution_count": null,
   "id": "fc9d214a",
   "metadata": {},
   "outputs": [],
   "source": []
  },
  {
   "cell_type": "code",
   "execution_count": 11,
   "id": "37dfafd4",
   "metadata": {},
   "outputs": [],
   "source": [
    "#c. Program to access an element in a list"
   ]
  },
  {
   "cell_type": "code",
   "execution_count": 17,
   "id": "27393fd6",
   "metadata": {},
   "outputs": [
    {
     "name": "stdout",
     "output_type": "stream",
     "text": [
      "Out Of Index Value\n"
     ]
    }
   ],
   "source": [
    "a=[2,5,3,56,24,7,6]\n",
    "try:\n",
    "    print(a[12])\n",
    "except IndexError:\n",
    "    print(\"Out Of Index Value\")"
   ]
  },
  {
   "cell_type": "code",
   "execution_count": null,
   "id": "a245a821",
   "metadata": {},
   "outputs": [],
   "source": []
  },
  {
   "cell_type": "code",
   "execution_count": 18,
   "id": "a5090871",
   "metadata": {},
   "outputs": [],
   "source": [
    "#d. Program to handle a specific exception"
   ]
  },
  {
   "cell_type": "code",
   "execution_count": 20,
   "id": "f0be618e",
   "metadata": {},
   "outputs": [
    {
     "name": "stdout",
     "output_type": "stream",
     "text": [
      "unexpected exception name 'f' is not defined\n"
     ]
    }
   ],
   "source": [
    "try:\n",
    "    print(10/f)\n",
    "except Exception as e:\n",
    "    print(\"unexpected exception\" , e)"
   ]
  },
  {
   "cell_type": "code",
   "execution_count": 21,
   "id": "cfad9402",
   "metadata": {},
   "outputs": [],
   "source": [
    "#e. Program to handle any exception"
   ]
  },
  {
   "cell_type": "code",
   "execution_count": null,
   "id": "535fad42",
   "metadata": {},
   "outputs": [],
   "source": []
  },
  {
   "cell_type": "code",
   "execution_count": null,
   "id": "3cae6429",
   "metadata": {},
   "outputs": [],
   "source": []
  }
 ],
 "metadata": {
  "kernelspec": {
   "display_name": "Python 3 (ipykernel)",
   "language": "python",
   "name": "python3"
  },
  "language_info": {
   "codemirror_mode": {
    "name": "ipython",
    "version": 3
   },
   "file_extension": ".py",
   "mimetype": "text/x-python",
   "name": "python",
   "nbconvert_exporter": "python",
   "pygments_lexer": "ipython3",
   "version": "3.10.5"
  }
 },
 "nbformat": 4,
 "nbformat_minor": 5
}
